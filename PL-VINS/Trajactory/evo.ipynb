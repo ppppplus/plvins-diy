{
 "cells": [
  {
   "cell_type": "code",
   "execution_count": null,
   "metadata": {},
   "outputs": [],
   "source": [
    "from evo.tools import plot\n",
    "from evo.tools import  file_interface\n",
    "from evo.core import sync\n",
    "from evo.core import metrics\n",
    "import evo.main_ape as main_ape\n",
    "import evo.common_ape_rpe as common\n",
    "import pprint\n",
    "from evo.tools import log\n",
    "log.configure_logging(verbose=True, debug=True, silent=False)\n",
    "\n",
    "import matplotlib.pyplot as plt\n",
    "from datetime import datetime\n",
    "import numpy as np\n",
    "%matplotlib inline\n",
    "\n",
    "\n",
    "# temporarily override some package settings\n",
    "from evo.tools.settings import SETTINGS\n",
    "SETTINGS.plot_usetex = False\n",
    "\n",
    "\n",
    "dataset=\"MH_04_difficult\"\n",
    "# dataset=\"MH_03_medium\"\n",
    "loop_closure=False\n",
    "output_exp_data=\"./exp_data/results_\"+dataset+str(datetime.now().strftime('%Y-%m-%d-%H:%M:%S'))+\".txt\"\n",
    "\n",
    "if loop_closure:\n",
    "    with open(\"./vins_result_loop.csv\",\"r\") as raw_result_file ,open(output_exp_data,'w') as output_file:\n",
    "        for line in  raw_result_file:\n",
    "            data=line.split(\",\")\n",
    "            time_stamp=float(data[0])/1e9\n",
    "            output_file.write(\" \".join([str(time_stamp)]+data[1:-1])+'\\n')\n",
    "else:\n",
    "    with open(\"./vins_result_no_loop.csv\",\"r\") as raw_result_file ,open(output_exp_data,'w') as output_file:\n",
    "        for line in  raw_result_file:\n",
    "            data=line.split(\",\")\n",
    "            time_stamp=float(data[0])/1e9\n",
    "            output_file.write(\" \".join([str(time_stamp)]+data[1:-4])+'\\n')\n",
    "traj_ref = file_interface.read_euroc_csv_trajectory(\"./config/\"+dataset+\"/data.csv\")\n",
    "traj_est = file_interface.read_tum_trajectory_file(output_exp_data)\n",
    "\n",
    "print(traj_ref)\n",
    "print(traj_est)\n",
    "traj_ref_0=traj_ref\n",
    "traj_ref, traj_est = sync.associate_trajectories(traj_ref, traj_est)"
   ]
  },
  {
   "cell_type": "code",
   "execution_count": null,
   "metadata": {},
   "outputs": [],
   "source": [
    "import copy\n",
    "\n",
    "traj_est_aligned = copy.deepcopy(traj_est)\n",
    "traj_est_aligned.align(traj_ref, correct_scale=True, correct_only_scale=False)"
   ]
  },
  {
   "attachments": {},
   "cell_type": "markdown",
   "metadata": {},
   "source": [
    "fig = plt.figure()\n",
    "traj_by_label = {\n",
    "    \"estimate (not aligned)\": traj_est,\n",
    "    \"estimate (aligned)\": traj_est_aligned,\n",
    "    \"reference\": traj_ref,\n",
    "}\n",
    "plot.trajectories(fig, traj_by_label, plot.PlotMode.xyz)\n",
    "plt.show()"
   ]
  },
  {
   "attachments": {},
   "cell_type": "markdown",
   "metadata": {},
   "source": [
    "pose_relation = metrics.PoseRelation.translation_part\n",
    "use_aligned_trajectories = True\n",
    "\n",
    "if use_aligned_trajectories:\n",
    "    data = (traj_ref, traj_est_aligned) \n",
    "else:\n",
    "    data = (traj_ref, traj_est)\n",
    "\n",
    "ape_metric = metrics.APE(pose_relation)\n",
    "ape_metric.process_data(data)\n",
    "\n",
    "ape_stat = ape_metric.get_statistic(metrics.StatisticsType.rmse)\n",
    "print(ape_stat)\n",
    "ape_stats = ape_metric.get_all_statistics()\n",
    "pprint.pprint(ape_stats)"
   ]
  },
  {
   "cell_type": "code",
   "execution_count": null,
   "metadata": {},
   "outputs": [],
   "source": [
    "seconds_from_start = [t - traj_est.timestamps[0] for t in traj_est.timestamps]\n",
    "fig = plt.figure()\n",
    "\n",
    "plot.error_array(fig.gca(), ape_metric.error, x_array=seconds_from_start,\n",
    "                 statistics={s+f\" {v:.4f}\":v for s,v in ape_stats.items() if s != \"sse\"},\n",
    "                 name=\"APE\", title=\"APE w.r.t. \" + ape_metric.pose_relation.value, xlabel=\"$t$ (s)\")\n",
    "plt.show()"
   ]
  },
  {
   "cell_type": "code",
   "execution_count": null,
   "metadata": {},
   "outputs": [],
   "source": [
    "plot_mode = plot.PlotMode.xy\n",
    "fig = plt.figure()\n",
    "ax = plot.prepare_axis(fig, plot_mode)\n",
    "plot.traj(ax, plot_mode, traj_ref, '--', \"gray\", \"reference\")\n",
    "plot.traj_colormap(ax, traj_est_aligned if use_aligned_trajectories else traj_est, ape_metric.error, \n",
    "                   plot_mode, min_map=ape_stats[\"min\"], max_map=ape_stats[\"max\"])\n",
    "ax.legend()\n",
    "plt.show()"
   ]
  }
 ],
 "metadata": {
  "language_info": {
   "name": "python"
  },
  "orig_nbformat": 4
 },
 "nbformat": 4,
 "nbformat_minor": 2
}
